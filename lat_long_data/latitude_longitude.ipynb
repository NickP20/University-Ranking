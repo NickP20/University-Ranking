{
 "cells": [
  {
   "cell_type": "markdown",
   "id": "b607c889",
   "metadata": {},
   "source": [
    "## latitude and longitude data\n",
    "\n",
    "### Data Source\n",
    "\n",
    "- https://www.kaggle.com/paultimothymooney/latitude-and-longitude-for-every-country-and-state\n",
    "- https://www.kaggle.com/louise2001/us-cities"
   ]
  },
  {
   "cell_type": "code",
   "execution_count": null,
   "id": "90e777a4",
   "metadata": {},
   "outputs": [],
   "source": []
  }
 ],
 "metadata": {
  "kernelspec": {
   "display_name": "Python 3",
   "language": "python",
   "name": "python3"
  },
  "language_info": {
   "codemirror_mode": {
    "name": "ipython",
    "version": 3
   },
   "file_extension": ".py",
   "mimetype": "text/x-python",
   "name": "python",
   "nbconvert_exporter": "python",
   "pygments_lexer": "ipython3",
   "version": "3.9.5"
  }
 },
 "nbformat": 4,
 "nbformat_minor": 5
}
