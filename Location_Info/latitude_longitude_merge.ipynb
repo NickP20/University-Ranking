{
 "cells": [
  {
   "cell_type": "markdown",
   "id": "b607c889",
   "metadata": {},
   "source": [
    "## Latitude and Longitude Data\n",
    "\n",
    "### Data Source\n",
    "\n",
    "- US states latitude and longitude:\n",
    "  https://www.kaggle.com/paultimothymooney/latitude-and-longitude-for-every-country-and-state\n",
    "  \n",
    "- US cities latitude and longitude:\n",
    "  API call from google Geocoding"
   ]
  },
  {
   "cell_type": "markdown",
   "id": "cfe5beae",
   "metadata": {},
   "source": [
    "#### import dependencies"
   ]
  },
  {
   "cell_type": "code",
   "execution_count": 1,
   "id": "90e777a4",
   "metadata": {},
   "outputs": [],
   "source": [
    "import pandas as pd"
   ]
  },
  {
   "cell_type": "markdown",
   "id": "bd156c4a",
   "metadata": {},
   "source": [
    "#### import datasets: college data, lat/lng from city and state"
   ]
  },
  {
   "cell_type": "code",
   "execution_count": 2,
   "id": "68033d82",
   "metadata": {},
   "outputs": [
    {
     "data": {
      "text/html": [
       "<div>\n",
       "<style scoped>\n",
       "    .dataframe tbody tr th:only-of-type {\n",
       "        vertical-align: middle;\n",
       "    }\n",
       "\n",
       "    .dataframe tbody tr th {\n",
       "        vertical-align: top;\n",
       "    }\n",
       "\n",
       "    .dataframe thead th {\n",
       "        text-align: right;\n",
       "    }\n",
       "</style>\n",
       "<table border=\"1\" class=\"dataframe\">\n",
       "  <thead>\n",
       "    <tr style=\"text-align: right;\">\n",
       "      <th></th>\n",
       "      <th>name</th>\n",
       "      <th>rating</th>\n",
       "      <th>location</th>\n",
       "      <th>niche_grade</th>\n",
       "      <th>acceptance_rate (%)</th>\n",
       "      <th>net_price ($)</th>\n",
       "      <th>SAT_range</th>\n",
       "      <th>city</th>\n",
       "      <th>state</th>\n",
       "      <th>SAT_low</th>\n",
       "      <th>SAT_high</th>\n",
       "      <th>SAT_average</th>\n",
       "    </tr>\n",
       "  </thead>\n",
       "  <tbody>\n",
       "    <tr>\n",
       "      <th>0</th>\n",
       "      <td>Massachusetts Institute of Technology</td>\n",
       "      <td>1</td>\n",
       "      <td>Cambridge, MA</td>\n",
       "      <td>A+</td>\n",
       "      <td>7</td>\n",
       "      <td>20465.0</td>\n",
       "      <td>1510-1570</td>\n",
       "      <td>Cambridge</td>\n",
       "      <td>MA</td>\n",
       "      <td>1510.0</td>\n",
       "      <td>1570.0</td>\n",
       "      <td>1540.0</td>\n",
       "    </tr>\n",
       "    <tr>\n",
       "      <th>1</th>\n",
       "      <td>Harvard University</td>\n",
       "      <td>2</td>\n",
       "      <td>Cambridge, MA</td>\n",
       "      <td>A+</td>\n",
       "      <td>5</td>\n",
       "      <td>18030.0</td>\n",
       "      <td>1460-1570</td>\n",
       "      <td>Cambridge</td>\n",
       "      <td>MA</td>\n",
       "      <td>1460.0</td>\n",
       "      <td>1570.0</td>\n",
       "      <td>1515.0</td>\n",
       "    </tr>\n",
       "    <tr>\n",
       "      <th>2</th>\n",
       "      <td>Stanford University</td>\n",
       "      <td>3</td>\n",
       "      <td>Stanford, CA</td>\n",
       "      <td>A+</td>\n",
       "      <td>4</td>\n",
       "      <td>16779.0</td>\n",
       "      <td>1440-1570</td>\n",
       "      <td>Stanford</td>\n",
       "      <td>CA</td>\n",
       "      <td>1440.0</td>\n",
       "      <td>1570.0</td>\n",
       "      <td>1505.0</td>\n",
       "    </tr>\n",
       "    <tr>\n",
       "      <th>3</th>\n",
       "      <td>Yale University</td>\n",
       "      <td>4</td>\n",
       "      <td>New Haven, CT</td>\n",
       "      <td>A+</td>\n",
       "      <td>6</td>\n",
       "      <td>18073.0</td>\n",
       "      <td>1460-1570</td>\n",
       "      <td>New Haven</td>\n",
       "      <td>CT</td>\n",
       "      <td>1460.0</td>\n",
       "      <td>1570.0</td>\n",
       "      <td>1515.0</td>\n",
       "    </tr>\n",
       "    <tr>\n",
       "      <th>4</th>\n",
       "      <td>Princeton University</td>\n",
       "      <td>5</td>\n",
       "      <td>Princeton, NJ</td>\n",
       "      <td>A+</td>\n",
       "      <td>6</td>\n",
       "      <td>18712.0</td>\n",
       "      <td>1460-1570</td>\n",
       "      <td>Princeton</td>\n",
       "      <td>NJ</td>\n",
       "      <td>1460.0</td>\n",
       "      <td>1570.0</td>\n",
       "      <td>1515.0</td>\n",
       "    </tr>\n",
       "  </tbody>\n",
       "</table>\n",
       "</div>"
      ],
      "text/plain": [
       "                                    name  rating       location niche_grade  \\\n",
       "0  Massachusetts Institute of Technology       1  Cambridge, MA          A+   \n",
       "1                     Harvard University       2  Cambridge, MA          A+   \n",
       "2                    Stanford University       3   Stanford, CA          A+   \n",
       "3                        Yale University       4  New Haven, CT          A+   \n",
       "4                   Princeton University       5  Princeton, NJ          A+   \n",
       "\n",
       "   acceptance_rate (%)  net_price ($)  SAT_range       city state  SAT_low  \\\n",
       "0                    7        20465.0  1510-1570  Cambridge    MA   1510.0   \n",
       "1                    5        18030.0  1460-1570  Cambridge    MA   1460.0   \n",
       "2                    4        16779.0  1440-1570   Stanford    CA   1440.0   \n",
       "3                    6        18073.0  1460-1570  New Haven    CT   1460.0   \n",
       "4                    6        18712.0  1460-1570  Princeton    NJ   1460.0   \n",
       "\n",
       "   SAT_high  SAT_average  \n",
       "0    1570.0       1540.0  \n",
       "1    1570.0       1515.0  \n",
       "2    1570.0       1505.0  \n",
       "3    1570.0       1515.0  \n",
       "4    1570.0       1515.0  "
      ]
     },
     "execution_count": 2,
     "metadata": {},
     "output_type": "execute_result"
    }
   ],
   "source": [
    "college_df = pd.read_csv('../Niche_Scraping/top800_best_colleges_in_America_2022.csv').iloc[:, 1:]\n",
    "college_df['city'] = college_df['city'].str.title()\n",
    "college_df['city'] = college_df['city'].str.replace('Saint','St.')\n",
    "college_df['state'] = college_df['state'].str.strip()\n",
    "college_df['location'] = college_df['city']+', '+college_df['state']\n",
    "college_df.head()"
   ]
  },
  {
   "cell_type": "code",
   "execution_count": 3,
   "id": "2c1068e5",
   "metadata": {},
   "outputs": [],
   "source": [
    "state_lat_lng = pd.read_csv(\"state_lat_lng.csv\")\n",
    "city_lat_lng = pd.read_csv(\"city_lat_lng.csv\")\n",
    "college_lat_lng = pd.read_csv(\"college_lat_lng.csv\")"
   ]
  },
  {
   "cell_type": "markdown",
   "id": "cd0a9980",
   "metadata": {},
   "source": [
    "#### merge"
   ]
  },
  {
   "cell_type": "code",
   "execution_count": 4,
   "id": "1fdab14e",
   "metadata": {},
   "outputs": [],
   "source": [
    "college_state_df = college_df.merge(state_lat_lng, how='left', on='state')\n",
    "#college_state_df.head()"
   ]
  },
  {
   "cell_type": "code",
   "execution_count": 5,
   "id": "c3e66611",
   "metadata": {},
   "outputs": [
    {
     "data": {
      "text/plain": [
       "800"
      ]
     },
     "execution_count": 5,
     "metadata": {},
     "output_type": "execute_result"
    }
   ],
   "source": [
    "# check returned number of entries\n",
    "len(college_state_df)"
   ]
  },
  {
   "cell_type": "code",
   "execution_count": 6,
   "id": "b92269b6",
   "metadata": {},
   "outputs": [
    {
     "data": {
      "text/plain": [
       "False"
      ]
     },
     "execution_count": 6,
     "metadata": {},
     "output_type": "execute_result"
    }
   ],
   "source": [
    "college_state_df['state_lat'].isnull().values.any()"
   ]
  },
  {
   "cell_type": "code",
   "execution_count": 7,
   "id": "048cc33b",
   "metadata": {
    "scrolled": true
   },
   "outputs": [],
   "source": [
    "college_city_state_df = college_state_df.merge(city_lat_lng, how = 'left', on='location')"
   ]
  },
  {
   "cell_type": "code",
   "execution_count": 8,
   "id": "2bc30874",
   "metadata": {
    "scrolled": true
   },
   "outputs": [
    {
     "data": {
      "text/plain": [
       "800"
      ]
     },
     "execution_count": 8,
     "metadata": {},
     "output_type": "execute_result"
    }
   ],
   "source": [
    "len(college_city_state_df)"
   ]
  },
  {
   "cell_type": "code",
   "execution_count": 9,
   "id": "4c9a60cf",
   "metadata": {},
   "outputs": [],
   "source": [
    "final_df = college_city_state_df.merge(college_lat_lng, how = 'left', on = 'name')"
   ]
  },
  {
   "cell_type": "markdown",
   "id": "3618ebb6",
   "metadata": {},
   "source": [
    "#### export"
   ]
  },
  {
   "cell_type": "code",
   "execution_count": 10,
   "id": "7373de93",
   "metadata": {},
   "outputs": [],
   "source": [
    "final_df.to_csv(\"../Data/data.csv\",index=False)"
   ]
  },
  {
   "cell_type": "code",
   "execution_count": null,
   "id": "6c75bbad",
   "metadata": {},
   "outputs": [],
   "source": []
  }
 ],
 "metadata": {
  "kernelspec": {
   "display_name": "Python 3",
   "language": "python",
   "name": "python3"
  },
  "language_info": {
   "codemirror_mode": {
    "name": "ipython",
    "version": 3
   },
   "file_extension": ".py",
   "mimetype": "text/x-python",
   "name": "python",
   "nbconvert_exporter": "python",
   "pygments_lexer": "ipython3",
   "version": "3.9.5"
  }
 },
 "nbformat": 4,
 "nbformat_minor": 5
}
