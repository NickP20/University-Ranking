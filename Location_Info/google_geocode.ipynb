{
 "cells": [
  {
   "cell_type": "markdown",
   "id": "9c759132",
   "metadata": {},
   "source": [
    "#### import dependencies"
   ]
  },
  {
   "cell_type": "code",
   "execution_count": 1,
   "id": "90e777a4",
   "metadata": {},
   "outputs": [],
   "source": [
    "import pandas as pd\n",
    "import requests\n",
    "import json\n",
    "# Google developer API key\n",
    "from config import gkey"
   ]
  },
  {
   "cell_type": "markdown",
   "id": "c0ef9298",
   "metadata": {},
   "source": [
    "#### import datasets: college data, lat/lng from city and state"
   ]
  },
  {
   "cell_type": "code",
   "execution_count": 4,
   "id": "906045e4",
   "metadata": {},
   "outputs": [
    {
     "data": {
      "text/html": [
       "<div>\n",
       "<style scoped>\n",
       "    .dataframe tbody tr th:only-of-type {\n",
       "        vertical-align: middle;\n",
       "    }\n",
       "\n",
       "    .dataframe tbody tr th {\n",
       "        vertical-align: top;\n",
       "    }\n",
       "\n",
       "    .dataframe thead th {\n",
       "        text-align: right;\n",
       "    }\n",
       "</style>\n",
       "<table border=\"1\" class=\"dataframe\">\n",
       "  <thead>\n",
       "    <tr style=\"text-align: right;\">\n",
       "      <th></th>\n",
       "      <th>name</th>\n",
       "      <th>rating</th>\n",
       "      <th>location</th>\n",
       "      <th>niche_grade</th>\n",
       "      <th>acceptance_rate (%)</th>\n",
       "      <th>net_price ($)</th>\n",
       "      <th>SAT_range</th>\n",
       "      <th>city</th>\n",
       "      <th>state</th>\n",
       "      <th>SAT_low</th>\n",
       "      <th>SAT_high</th>\n",
       "      <th>SAT_average</th>\n",
       "    </tr>\n",
       "  </thead>\n",
       "  <tbody>\n",
       "    <tr>\n",
       "      <th>0</th>\n",
       "      <td>Massachusetts Institute of Technology</td>\n",
       "      <td>1</td>\n",
       "      <td>Cambridge, MA</td>\n",
       "      <td>A+</td>\n",
       "      <td>7</td>\n",
       "      <td>20465.0</td>\n",
       "      <td>1510-1570</td>\n",
       "      <td>Cambridge</td>\n",
       "      <td>MA</td>\n",
       "      <td>1510.0</td>\n",
       "      <td>1570.0</td>\n",
       "      <td>1540.0</td>\n",
       "    </tr>\n",
       "    <tr>\n",
       "      <th>1</th>\n",
       "      <td>Harvard University</td>\n",
       "      <td>2</td>\n",
       "      <td>Cambridge, MA</td>\n",
       "      <td>A+</td>\n",
       "      <td>5</td>\n",
       "      <td>18030.0</td>\n",
       "      <td>1460-1570</td>\n",
       "      <td>Cambridge</td>\n",
       "      <td>MA</td>\n",
       "      <td>1460.0</td>\n",
       "      <td>1570.0</td>\n",
       "      <td>1515.0</td>\n",
       "    </tr>\n",
       "    <tr>\n",
       "      <th>2</th>\n",
       "      <td>Stanford University</td>\n",
       "      <td>3</td>\n",
       "      <td>Stanford, CA</td>\n",
       "      <td>A+</td>\n",
       "      <td>4</td>\n",
       "      <td>16779.0</td>\n",
       "      <td>1440-1570</td>\n",
       "      <td>Stanford</td>\n",
       "      <td>CA</td>\n",
       "      <td>1440.0</td>\n",
       "      <td>1570.0</td>\n",
       "      <td>1505.0</td>\n",
       "    </tr>\n",
       "    <tr>\n",
       "      <th>3</th>\n",
       "      <td>Yale University</td>\n",
       "      <td>4</td>\n",
       "      <td>New Haven, CT</td>\n",
       "      <td>A+</td>\n",
       "      <td>6</td>\n",
       "      <td>18073.0</td>\n",
       "      <td>1460-1570</td>\n",
       "      <td>New Haven</td>\n",
       "      <td>CT</td>\n",
       "      <td>1460.0</td>\n",
       "      <td>1570.0</td>\n",
       "      <td>1515.0</td>\n",
       "    </tr>\n",
       "    <tr>\n",
       "      <th>4</th>\n",
       "      <td>Princeton University</td>\n",
       "      <td>5</td>\n",
       "      <td>Princeton, NJ</td>\n",
       "      <td>A+</td>\n",
       "      <td>6</td>\n",
       "      <td>18712.0</td>\n",
       "      <td>1460-1570</td>\n",
       "      <td>Princeton</td>\n",
       "      <td>NJ</td>\n",
       "      <td>1460.0</td>\n",
       "      <td>1570.0</td>\n",
       "      <td>1515.0</td>\n",
       "    </tr>\n",
       "  </tbody>\n",
       "</table>\n",
       "</div>"
      ],
      "text/plain": [
       "                                    name  rating       location niche_grade  \\\n",
       "0  Massachusetts Institute of Technology       1  Cambridge, MA          A+   \n",
       "1                     Harvard University       2  Cambridge, MA          A+   \n",
       "2                    Stanford University       3   Stanford, CA          A+   \n",
       "3                        Yale University       4  New Haven, CT          A+   \n",
       "4                   Princeton University       5  Princeton, NJ          A+   \n",
       "\n",
       "   acceptance_rate (%)  net_price ($)  SAT_range       city state  SAT_low  \\\n",
       "0                    7        20465.0  1510-1570  Cambridge    MA   1510.0   \n",
       "1                    5        18030.0  1460-1570  Cambridge    MA   1460.0   \n",
       "2                    4        16779.0  1440-1570   Stanford    CA   1440.0   \n",
       "3                    6        18073.0  1460-1570  New Haven    CT   1460.0   \n",
       "4                    6        18712.0  1460-1570  Princeton    NJ   1460.0   \n",
       "\n",
       "   SAT_high  SAT_average  \n",
       "0    1570.0       1540.0  \n",
       "1    1570.0       1515.0  \n",
       "2    1570.0       1505.0  \n",
       "3    1570.0       1515.0  \n",
       "4    1570.0       1515.0  "
      ]
     },
     "execution_count": 4,
     "metadata": {},
     "output_type": "execute_result"
    }
   ],
   "source": [
    "college_df = pd.read_csv('../Niche_Scraping/top800_best_colleges_in_America_2022.csv').iloc[:, 1:]\n",
    "college_df['city'] = college_df['city'].str.title()\n",
    "college_df['city'] = college_df['city'].str.replace('Saint','St.')\n",
    "college_df['state'] = college_df['state'].str.strip()\n",
    "college_df['location'] = college_df['city']+', '+college_df['state']\n",
    "college_df.head()"
   ]
  },
  {
   "cell_type": "markdown",
   "id": "74b733d9",
   "metadata": {},
   "source": [
    "### get locations of city & state"
   ]
  },
  {
   "cell_type": "code",
   "execution_count": 7,
   "id": "389291c1",
   "metadata": {},
   "outputs": [
    {
     "data": {
      "text/plain": [
       "list"
      ]
     },
     "execution_count": 7,
     "metadata": {},
     "output_type": "execute_result"
    }
   ],
   "source": [
    "# Target cities list\n",
    "cities = college_df['location'].unique().tolist()\n",
    "type(cities)"
   ]
  },
  {
   "cell_type": "code",
   "execution_count": 8,
   "id": "8a1ed954",
   "metadata": {
    "scrolled": true
   },
   "outputs": [
    {
     "data": {
      "text/plain": [
       "599"
      ]
     },
     "execution_count": 8,
     "metadata": {},
     "output_type": "execute_result"
    }
   ],
   "source": [
    "len(cities)"
   ]
  },
  {
   "cell_type": "code",
   "execution_count": 9,
   "id": "fbbc82c7",
   "metadata": {},
   "outputs": [],
   "source": [
    "#this step takes a little bit long\n",
    "city_lat = []\n",
    "city_lng = []\n",
    "\n",
    "for city in cities:\n",
    "    # Build the endpoint URL\n",
    "    target_url = f\"https://maps.googleapis.com/maps/api/geocode/json?address={city}&key={gkey}\"\n",
    "    # Run a request to endpoint and convert result to json\n",
    "    geo_data = requests.get(target_url).json()\n",
    "    # Extract latitude and longitude\n",
    "    city_lat.append(geo_data[\"results\"][0][\"geometry\"][\"location\"][\"lat\"])\n",
    "    city_lng.append(geo_data[\"results\"][0][\"geometry\"][\"location\"][\"lng\"])"
   ]
  },
  {
   "cell_type": "code",
   "execution_count": 14,
   "id": "b65dd974",
   "metadata": {},
   "outputs": [
    {
     "data": {
      "text/html": [
       "<div>\n",
       "<style scoped>\n",
       "    .dataframe tbody tr th:only-of-type {\n",
       "        vertical-align: middle;\n",
       "    }\n",
       "\n",
       "    .dataframe tbody tr th {\n",
       "        vertical-align: top;\n",
       "    }\n",
       "\n",
       "    .dataframe thead th {\n",
       "        text-align: right;\n",
       "    }\n",
       "</style>\n",
       "<table border=\"1\" class=\"dataframe\">\n",
       "  <thead>\n",
       "    <tr style=\"text-align: right;\">\n",
       "      <th></th>\n",
       "      <th>location</th>\n",
       "      <th>city_lat</th>\n",
       "      <th>city_lng</th>\n",
       "    </tr>\n",
       "  </thead>\n",
       "  <tbody>\n",
       "    <tr>\n",
       "      <th>0</th>\n",
       "      <td>Cambridge, MA</td>\n",
       "      <td>42.373616</td>\n",
       "      <td>-71.109733</td>\n",
       "    </tr>\n",
       "    <tr>\n",
       "      <th>1</th>\n",
       "      <td>Stanford, CA</td>\n",
       "      <td>37.424106</td>\n",
       "      <td>-122.166076</td>\n",
       "    </tr>\n",
       "    <tr>\n",
       "      <th>2</th>\n",
       "      <td>New Haven, CT</td>\n",
       "      <td>41.308274</td>\n",
       "      <td>-72.927883</td>\n",
       "    </tr>\n",
       "    <tr>\n",
       "      <th>3</th>\n",
       "      <td>Princeton, NJ</td>\n",
       "      <td>40.357298</td>\n",
       "      <td>-74.667223</td>\n",
       "    </tr>\n",
       "    <tr>\n",
       "      <th>4</th>\n",
       "      <td>Durham, NC</td>\n",
       "      <td>35.994033</td>\n",
       "      <td>-78.898619</td>\n",
       "    </tr>\n",
       "  </tbody>\n",
       "</table>\n",
       "</div>"
      ],
      "text/plain": [
       "        location   city_lat    city_lng\n",
       "0  Cambridge, MA  42.373616  -71.109733\n",
       "1   Stanford, CA  37.424106 -122.166076\n",
       "2  New Haven, CT  41.308274  -72.927883\n",
       "3  Princeton, NJ  40.357298  -74.667223\n",
       "4     Durham, NC  35.994033  -78.898619"
      ]
     },
     "execution_count": 14,
     "metadata": {},
     "output_type": "execute_result"
    }
   ],
   "source": [
    "city_df = pd.DataFrame(list(zip(cities, city_lat,city_lng)), columns =['location', 'city_lat','city_lng'])\n",
    "city_df.head()"
   ]
  },
  {
   "cell_type": "code",
   "execution_count": 16,
   "id": "b726e544",
   "metadata": {},
   "outputs": [
    {
     "data": {
      "text/plain": [
       "False"
      ]
     },
     "execution_count": 16,
     "metadata": {},
     "output_type": "execute_result"
    }
   ],
   "source": [
    "#check if there are any missing values\n",
    "city_df.isnull().values.any()"
   ]
  },
  {
   "cell_type": "code",
   "execution_count": 18,
   "id": "e3a1c0ba",
   "metadata": {},
   "outputs": [],
   "source": [
    "city_df.to_csv(\"city_lat_lng.csv\",index=False)"
   ]
  },
  {
   "cell_type": "markdown",
   "id": "a066d1e5",
   "metadata": {},
   "source": [
    "### get locations of university"
   ]
  },
  {
   "cell_type": "code",
   "execution_count": 19,
   "id": "262a33c1",
   "metadata": {},
   "outputs": [
    {
     "data": {
      "text/plain": [
       "800"
      ]
     },
     "execution_count": 19,
     "metadata": {},
     "output_type": "execute_result"
    }
   ],
   "source": [
    "# Target cities list\n",
    "colleges = college_df['name'].unique().tolist()\n",
    "len(colleges)"
   ]
  },
  {
   "cell_type": "code",
   "execution_count": 22,
   "id": "3eed768a",
   "metadata": {},
   "outputs": [],
   "source": [
    "#this step takes a little bit long\n",
    "college_lat = []\n",
    "college_lng = []\n",
    "\n",
    "for college in colleges:\n",
    "    # Build the endpoint URL\n",
    "    target_url = f\"https://maps.googleapis.com/maps/api/geocode/json?address={college}&key={gkey}\"\n",
    "    # Run a request to endpoint and convert result to json\n",
    "    geo_data = requests.get(target_url).json()\n",
    "    # Extract latitude and longitude\n",
    "    college_lat.append(geo_data[\"results\"][0][\"geometry\"][\"location\"][\"lat\"])\n",
    "    college_lng.append(geo_data[\"results\"][0][\"geometry\"][\"location\"][\"lng\"])"
   ]
  },
  {
   "cell_type": "code",
   "execution_count": 23,
   "id": "797fcb72",
   "metadata": {},
   "outputs": [
    {
     "data": {
      "text/plain": [
       "800"
      ]
     },
     "execution_count": 23,
     "metadata": {},
     "output_type": "execute_result"
    }
   ],
   "source": [
    "len(college_lat)"
   ]
  },
  {
   "cell_type": "code",
   "execution_count": 24,
   "id": "28445792",
   "metadata": {},
   "outputs": [
    {
     "data": {
      "text/plain": [
       "800"
      ]
     },
     "execution_count": 24,
     "metadata": {},
     "output_type": "execute_result"
    }
   ],
   "source": [
    "len(college_lng)"
   ]
  },
  {
   "cell_type": "code",
   "execution_count": 25,
   "id": "3795d368",
   "metadata": {},
   "outputs": [
    {
     "data": {
      "text/html": [
       "<div>\n",
       "<style scoped>\n",
       "    .dataframe tbody tr th:only-of-type {\n",
       "        vertical-align: middle;\n",
       "    }\n",
       "\n",
       "    .dataframe tbody tr th {\n",
       "        vertical-align: top;\n",
       "    }\n",
       "\n",
       "    .dataframe thead th {\n",
       "        text-align: right;\n",
       "    }\n",
       "</style>\n",
       "<table border=\"1\" class=\"dataframe\">\n",
       "  <thead>\n",
       "    <tr style=\"text-align: right;\">\n",
       "      <th></th>\n",
       "      <th>name</th>\n",
       "      <th>college_lat</th>\n",
       "      <th>college_lng</th>\n",
       "    </tr>\n",
       "  </thead>\n",
       "  <tbody>\n",
       "    <tr>\n",
       "      <th>0</th>\n",
       "      <td>Massachusetts Institute of Technology</td>\n",
       "      <td>42.360091</td>\n",
       "      <td>-71.094160</td>\n",
       "    </tr>\n",
       "    <tr>\n",
       "      <th>1</th>\n",
       "      <td>Harvard University</td>\n",
       "      <td>42.377003</td>\n",
       "      <td>-71.116660</td>\n",
       "    </tr>\n",
       "    <tr>\n",
       "      <th>2</th>\n",
       "      <td>Stanford University</td>\n",
       "      <td>37.427475</td>\n",
       "      <td>-122.169719</td>\n",
       "    </tr>\n",
       "    <tr>\n",
       "      <th>3</th>\n",
       "      <td>Yale University</td>\n",
       "      <td>41.316324</td>\n",
       "      <td>-72.922343</td>\n",
       "    </tr>\n",
       "    <tr>\n",
       "      <th>4</th>\n",
       "      <td>Princeton University</td>\n",
       "      <td>40.343094</td>\n",
       "      <td>-74.655074</td>\n",
       "    </tr>\n",
       "  </tbody>\n",
       "</table>\n",
       "</div>"
      ],
      "text/plain": [
       "                                    name  college_lat  college_lng\n",
       "0  Massachusetts Institute of Technology    42.360091   -71.094160\n",
       "1                     Harvard University    42.377003   -71.116660\n",
       "2                    Stanford University    37.427475  -122.169719\n",
       "3                        Yale University    41.316324   -72.922343\n",
       "4                   Princeton University    40.343094   -74.655074"
      ]
     },
     "execution_count": 25,
     "metadata": {},
     "output_type": "execute_result"
    }
   ],
   "source": [
    "college_location_df = pd.DataFrame(list(zip(colleges, college_lat,college_lng)), columns =['name', 'college_lat','college_lng'])\n",
    "college_location_df.head()"
   ]
  },
  {
   "cell_type": "code",
   "execution_count": 26,
   "id": "ffeb347d",
   "metadata": {},
   "outputs": [
    {
     "data": {
      "text/plain": [
       "False"
      ]
     },
     "execution_count": 26,
     "metadata": {},
     "output_type": "execute_result"
    }
   ],
   "source": [
    "#check if there are any missing values\n",
    "college_location_df.isnull().values.any()"
   ]
  },
  {
   "cell_type": "code",
   "execution_count": 27,
   "id": "1e3fd358",
   "metadata": {},
   "outputs": [],
   "source": [
    "college_location_df.to_csv(\"college_lat_lng.csv\",index=False)"
   ]
  },
  {
   "cell_type": "code",
   "execution_count": null,
   "id": "51075160",
   "metadata": {},
   "outputs": [],
   "source": []
  }
 ],
 "metadata": {
  "kernelspec": {
   "display_name": "Python 3",
   "language": "python",
   "name": "python3"
  },
  "language_info": {
   "codemirror_mode": {
    "name": "ipython",
    "version": 3
   },
   "file_extension": ".py",
   "mimetype": "text/x-python",
   "name": "python",
   "nbconvert_exporter": "python",
   "pygments_lexer": "ipython3",
   "version": "3.9.5"
  }
 },
 "nbformat": 4,
 "nbformat_minor": 5
}
